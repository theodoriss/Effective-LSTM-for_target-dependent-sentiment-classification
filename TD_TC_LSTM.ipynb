{
  "nbformat": 4,
  "nbformat_minor": 0,
  "metadata": {
    "colab": {
      "name": "TD-TC-LSTM.ipynb",
      "provenance": [],
      "collapsed_sections": [],
      "toc_visible": true,
      "include_colab_link": true
    },
    "kernelspec": {
      "name": "python3",
      "display_name": "Python 3"
    }
  },
  "cells": [
    {
      "cell_type": "markdown",
      "metadata": {
        "id": "view-in-github",
        "colab_type": "text"
      },
      "source": [
        "<a href=\"https://colab.research.google.com/github/theodoriss/Effective-LSTM-for_target-dependent-sentiment-classification/blob/master/TD_TC_LSTM.ipynb\" target=\"_parent\"><img src=\"https://colab.research.google.com/assets/colab-badge.svg\" alt=\"Open In Colab\"/></a>"
      ]
    },
    {
      "cell_type": "markdown",
      "metadata": {
        "id": "jstfmXSWMww1",
        "colab_type": "text"
      },
      "source": [
        "## Neural Networks for Data Science Applications (2019/2020)\n",
        "\n",
        "Final exam (template)\n",
        "\n",
        "Students: Theodoros Sofianos (1867968); \n",
        "Alessandra Griesi (1578970)\n",
        "\n",
        "Reference paper / topic: Effective LSTMs for Target-Dependent Sentiment Classification Duyu Tang, Bing Qin, Xiaocheng Feng, Ting Liu\n",
        "\n",
        "https://www.aclweb.org/anthology/C16-1311.pdf"
      ]
    },
    {
      "cell_type": "markdown",
      "metadata": {
        "id": "R77G0s4KNO2A",
        "colab_type": "text"
      },
      "source": [
        "### Report\n",
        "\n",
        "The goal of this work is to find the model that mostly can classify correctly  tweets. Tweets are sentences, indeed. \n",
        "And the texts can be classified regarding the feeling of a message (positive, negative, neutral).\n",
        "It's been considered the LSTM model, that is a type of Recurrent Neural Network used for text.\n",
        "\n",
        "                                                           LSTM Model \n",
        "\n",
        "<body>\n",
        "    <img src=\"https://drive.google.com/uc?export=view&id=1-MymVt0RL9EYsEcjiouxbY4eKWyueQwA\">\n",
        "</body>\n",
        "\n",
        "LSTM Layer \n",
        "\n",
        "\\begin{equation} it = σ(Wi · [ht−1; wt] + bi) \\end{equation}\n",
        "\\begin{equation} ft = σ(Wf · [ht−1; wt] + bf ) \\end{equation}\n",
        "\\begin{equation} ot = σ(Wo · [ht−1; wt] + bo) \\end{equation}\n",
        "\\begin{equation}gt = tanh(Wr · [ht−1; wt] + br) \\end{equation}\n",
        "\\begin{equation}ct = it \\odot gt + ft \\odot ct−1 \\end{equation}\n",
        "\\begin{equation} ht = ot \\odot tanh(ct) \\end{equation}\n",
        "\n",
        "made actually by four interacting layers.\n"
      ]
    },
    {
      "cell_type": "markdown",
      "metadata": {
        "id": "Rsm4p4oVNXm3",
        "colab_type": "text"
      },
      "source": [
        "More in particular, we compared different ways of using the LSTM. \n",
        "The simple use of LSTM is not performant as a more complex way to give data to the LSTM.\n",
        "\n",
        "Thus, we implemented the two models focusing on how the target could help for predicting the dominant sentiment for each tweet.\n",
        "\n",
        "                                                     New implementation of the model \n",
        "\n",
        "<body>\n",
        "    <img src=\"https://drive.google.com/uc?export=view&id=1Imn48rCSppPpEyc5uwgvpcQjFMvFR7YT\">\n",
        "</body>\n",
        "\n",
        "\n",
        "\n",
        "Basically these two models are made of two models (still LSTM-based) that take care of one portion of the tweet: one the left one, and the other the right one.   What differs is how the target word(/s) is(/are) given to the model.\n",
        "\n",
        "The first one, called Target Dependent LSTM has the target word considered in the last step of the LSTM:\n",
        "it means that when the LSTM works over a sentence, the information regarding the target is considered as last.\n",
        "\n",
        "In the second implementation, each word in the sentence is concatenated to the target vector.\n"
      ]
    },
    {
      "cell_type": "markdown",
      "metadata": {
        "id": "4l_sc9E9Ndof",
        "colab_type": "text"
      },
      "source": [
        "# Install  Dependencies\n"
      ]
    },
    {
      "cell_type": "code",
      "metadata": {
        "id": "KHeVxRonVB3h",
        "colab_type": "code",
        "colab": {
          "base_uri": "https://localhost:8080/",
          "height": 52
        },
        "outputId": "8e1b69f9-4e27-438e-89d2-bcd32ab87276"
      },
      "source": [
        "from nltk.corpus import stopwords\n",
        "import nltk\n",
        "nltk.download('stopwords')\n",
        "import tensorflow as tf\n",
        "from tensorflow.keras.preprocessing import text, sequence\n",
        "from nltk.stem import PorterStemmer\n",
        "import string\n",
        "import numpy as np\n",
        "import pandas as pd\n",
        "from tensorflow.keras.models import Sequential,Model\n",
        "from tensorflow.keras.layers import Dense, Embedding,LSTM,Concatenate,concatenate,Dropout,Input,RepeatVector,Masking,BatchNormalization\n",
        "from tensorflow.keras.initializers import Constant # the word embedding matrix is pre-trained,thus constant\n",
        "from tensorflow.keras.optimizers import SGD\n",
        "from keras.preprocessing.text import Tokenizer\n",
        "import gensim.downloader as api\n",
        "from sklearn.metrics import classification_report, confusion_matrix\n",
        "from tensorflow.keras.callbacks import EarlyStopping\n",
        "import matplotlib.pyplot as plt\n",
        "\n"
      ],
      "execution_count": null,
      "outputs": [
        {
          "output_type": "stream",
          "text": [
            "[nltk_data] Downloading package stopwords to /root/nltk_data...\n",
            "[nltk_data]   Package stopwords is already up-to-date!\n"
          ],
          "name": "stdout"
        }
      ]
    },
    {
      "cell_type": "markdown",
      "metadata": {
        "id": "mojR1jqFNtnf",
        "colab_type": "text"
      },
      "source": [
        "# Load Data\n"
      ]
    },
    {
      "cell_type": "code",
      "metadata": {
        "id": "lbCC-t9CVio7",
        "colab_type": "code",
        "colab": {}
      },
      "source": [
        "def create_dataframe(file_path):\n",
        "    sentences=[] # list of lists, where every sentence is a list of the words that form it. will be used for splitting right and left of target\n",
        "    #sentences_text=[]  # list of strings-sentences. replace target symbol with target, to be used in tokenization\n",
        "    target=[]\n",
        "    label=[]\n",
        "    with open(file_path,encoding='utf-8') as file:\n",
        "        for line in file:\n",
        "            sentences.append(line.strip('\\n').lower().split()) \n",
        "            #sentences_text.append(line.strip('\\n').lower())\n",
        "            target.append(next(file).strip('\\n'))\n",
        "            label.append(int(next(file).strip('\\n')))\n",
        "    #for i in range(len(sentences_text)):\n",
        "        #sentences_text[i]=sentences_text[i].replace('$t$',str(target[i])) # replace symbol with target\n",
        "\n",
        "    words_left=[]# list of lists\n",
        "    words_right=[]# list of lists\n",
        "    for target_number,sentence in enumerate(sentences):\n",
        "        for position,word in enumerate(sentence):\n",
        "            if word=='$t$':\n",
        "                words_left.append(sentence[:position]+[target[target_number]])\n",
        "                #wr=[target[target_number]]+sentence[position+1:]\n",
        "                #wr.reverse()\n",
        "                words_right.append([target[target_number]]+sentence[position+1:])\n",
        "                break\n",
        "\n",
        "    data=pd.DataFrame(columns=['sentence','words_left','words_right','target','label'])\n",
        "    data['sentence']=sentences\n",
        "    data['words_left']=words_left\n",
        "    data['words_right']=words_right\n",
        "    data['target']=target\n",
        "    data['label']=label\n",
        "\n",
        "    data['sentence']= data.apply(lambda x: ' '.join(x['sentence']).replace('$t$',x['target']).split(),axis=1) # replace $t$ symbol with its target value\n",
        "\n",
        "    return data"
      ],
      "execution_count": null,
      "outputs": []
    },
    {
      "cell_type": "code",
      "metadata": {
        "id": "dGiesJ2LV67a",
        "colab_type": "code",
        "colab": {
          "base_uri": "https://localhost:8080/",
          "height": 197
        },
        "outputId": "9ee78d2e-5b2b-45a7-812b-abe1624026ea"
      },
      "source": [
        "train_data=create_dataframe('train1.raw')\n",
        "test_data=create_dataframe('test.raw')\n",
        "train_data.head()"
      ],
      "execution_count": null,
      "outputs": [
        {
          "output_type": "execute_result",
          "data": {
            "text/html": [
              "<div>\n",
              "<style scoped>\n",
              "    .dataframe tbody tr th:only-of-type {\n",
              "        vertical-align: middle;\n",
              "    }\n",
              "\n",
              "    .dataframe tbody tr th {\n",
              "        vertical-align: top;\n",
              "    }\n",
              "\n",
              "    .dataframe thead th {\n",
              "        text-align: right;\n",
              "    }\n",
              "</style>\n",
              "<table border=\"1\" class=\"dataframe\">\n",
              "  <thead>\n",
              "    <tr style=\"text-align: right;\">\n",
              "      <th></th>\n",
              "      <th>sentence</th>\n",
              "      <th>words_left</th>\n",
              "      <th>words_right</th>\n",
              "      <th>target</th>\n",
              "      <th>label</th>\n",
              "    </tr>\n",
              "  </thead>\n",
              "  <tbody>\n",
              "    <tr>\n",
              "      <th>0</th>\n",
              "      <td>[hi, my, name, is, harry, and, i, hate, britne...</td>\n",
              "      <td>[hi, my, name, is, harry, and, i, hate, britne...</td>\n",
              "      <td>[britney spears]</td>\n",
              "      <td>britney spears</td>\n",
              "      <td>-1</td>\n",
              "    </tr>\n",
              "    <tr>\n",
              "      <th>1</th>\n",
              "      <td>[yes, i, am, especially, when, i, sing, britne...</td>\n",
              "      <td>[yes, i, am, especially, when, i, sing, britne...</td>\n",
              "      <td>[britney spears]</td>\n",
              "      <td>britney spears</td>\n",
              "      <td>1</td>\n",
              "    </tr>\n",
              "    <tr>\n",
              "      <th>2</th>\n",
              "      <td>[lol, well, the, main, reason, was, i, hardly,...</td>\n",
              "      <td>[lol, well, the, main, reason, was, i, hardly,...</td>\n",
              "      <td>[xbox, games, ., that, plus, netflix, lol]</td>\n",
              "      <td>xbox</td>\n",
              "      <td>0</td>\n",
              "    </tr>\n",
              "    <tr>\n",
              "      <th>3</th>\n",
              "      <td>[barack, obama, used, the, internet, to, his, ...</td>\n",
              "      <td>[barack obama]</td>\n",
              "      <td>[barack obama, used, the, internet, to, his, a...</td>\n",
              "      <td>barack obama</td>\n",
              "      <td>0</td>\n",
              "    </tr>\n",
              "    <tr>\n",
              "      <th>4</th>\n",
              "      <td>[google, translate, sucks, !]</td>\n",
              "      <td>[google]</td>\n",
              "      <td>[google, translate, sucks, !]</td>\n",
              "      <td>google</td>\n",
              "      <td>-1</td>\n",
              "    </tr>\n",
              "  </tbody>\n",
              "</table>\n",
              "</div>"
            ],
            "text/plain": [
              "                                            sentence  ... label\n",
              "0  [hi, my, name, is, harry, and, i, hate, britne...  ...    -1\n",
              "1  [yes, i, am, especially, when, i, sing, britne...  ...     1\n",
              "2  [lol, well, the, main, reason, was, i, hardly,...  ...     0\n",
              "3  [barack, obama, used, the, internet, to, his, ...  ...     0\n",
              "4                      [google, translate, sucks, !]  ...    -1\n",
              "\n",
              "[5 rows x 5 columns]"
            ]
          },
          "metadata": {
            "tags": []
          },
          "execution_count": 3
        }
      ]
    },
    {
      "cell_type": "markdown",
      "metadata": {
        "id": "1OC2L2X8N1Mf",
        "colab_type": "text"
      },
      "source": [
        "# Preprocess of data and transormation of sentences into numeric sequences"
      ]
    },
    {
      "cell_type": "code",
      "metadata": {
        "id": "pyesaIrtWbvj",
        "colab_type": "code",
        "colab": {}
      },
      "source": [
        "def preprocessing(list_of_sentences,dataframe):\n",
        "    processed_sentences=[]\n",
        "    stops = set(stopwords.words(\"english\"))\n",
        "    ps = PorterStemmer()\n",
        "    for s in list_of_sentences:\n",
        "       # print(str(s).translate(str.maketrans('', '', string.punctuation)))\n",
        "        text = [w for w in s if not w in stops and len(w)>2]\n",
        "       # print(' '.join(text))\n",
        "        temp=[]\n",
        "        for w in text:\n",
        "            if w not in ' '.join(list(dataframe['target'])):\n",
        "                rootword=ps.stem(w)\n",
        "                temp.append(rootword)\n",
        "            else:\n",
        "                temp.append(w)\n",
        "        processed_sentences.append(str(temp).translate(str.maketrans('', '', string.punctuation)))\n",
        "    return processed_sentences"
      ],
      "execution_count": null,
      "outputs": []
    },
    {
      "cell_type": "code",
      "metadata": {
        "id": "BeJPitXCWrHB",
        "colab_type": "code",
        "colab": {}
      },
      "source": [
        "train_processed = train_data.apply(lambda x: preprocessing(x,train_data) if x.name in ['sentence', 'words_left','words_right'] else x)\n",
        "test_processed = test_data.apply(lambda x: preprocessing(x,test_data) if x.name in ['sentence', 'words_left','words_right'] else x)\n",
        "\n"
      ],
      "execution_count": null,
      "outputs": []
    },
    {
      "cell_type": "code",
      "metadata": {
        "id": "kDrL00k7YMkJ",
        "colab_type": "code",
        "colab": {}
      },
      "source": [
        "def create_sequences(tokenizer,dataframe):\n",
        "    MAX_SEQUENCE_LENGTH = 14 # largest sequence length for left,right words from both train and test sets\n",
        "    MAX_SEQUENCE_LENGTH_sentences = 17 # largest sequence for the whole sentence\n",
        "\n",
        "\n",
        "    tokens_left = tokenizer.texts_to_sequences(dataframe['words_left'])\n",
        "    tokens_right = tokenizer.texts_to_sequences(dataframe['words_right'])\n",
        "    tokens_all = tokenizer.texts_to_sequences(dataframe['sentence'])\n",
        "    tokens_left= sequence.pad_sequences(tokens_left, padding='pre',maxlen=MAX_SEQUENCE_LENGTH)\n",
        "    tokens_right= sequence.pad_sequences(tokens_right, padding='post',maxlen=MAX_SEQUENCE_LENGTH)\n",
        "    tokens_all= sequence.pad_sequences(tokens_all, padding='pre',maxlen=MAX_SEQUENCE_LENGTH_sentences)\n",
        "\n",
        "    return tokens_left,tokens_right,tokens_all\n",
        "    "
      ],
      "execution_count": null,
      "outputs": []
    },
    {
      "cell_type": "code",
      "metadata": {
        "id": "q5H7XXlSYsZB",
        "colab_type": "code",
        "colab": {}
      },
      "source": [
        "def create__inputs_outputs(train_dataframe,test_dataframe):\n",
        "    number_of_words=250\n",
        "    tokenizer = text.Tokenizer(num_words=number_of_words)\n",
        "    tokenizer.fit_on_texts(train_dataframe['sentence'])\n",
        "    \n",
        "    train_tokens_left,train_tokens_right,train_tokens_all=create_sequences(tokenizer,train_dataframe)\n",
        "    test_tokens_left,test_tokens_right,test_tokens_all=create_sequences(tokenizer,test_dataframe)\n",
        "\n",
        "    \n",
        "    labels_train= np.asanyarray(pd.get_dummies(train_dataframe['label'],prefix=['label']))\n",
        "    labels_test= np.asanyarray(pd.get_dummies(test_dataframe['label'],prefix=['label']))\n",
        "\n",
        "    \n",
        "    return tokenizer,train_tokens_left,train_tokens_right,train_tokens_all,test_tokens_left,test_tokens_right,test_tokens_all,labels_train,labels_test\n",
        "\n",
        "    "
      ],
      "execution_count": null,
      "outputs": []
    },
    {
      "cell_type": "code",
      "metadata": {
        "id": "VF5r9tSwYupx",
        "colab_type": "code",
        "colab": {}
      },
      "source": [
        "tokenizer,X_train_left,X_train_right,X_train,X_test_left,X_test_right,X_test,Y_train,Y_test=create__inputs_outputs(train_processed,test_processed)"
      ],
      "execution_count": null,
      "outputs": []
    },
    {
      "cell_type": "code",
      "metadata": {
        "id": "62-zbWRiYwYx",
        "colab_type": "code",
        "colab": {
          "base_uri": "https://localhost:8080/",
          "height": 34
        },
        "outputId": "5566c649-0a51-4924-ae9a-ee87484f7cfd"
      },
      "source": [
        "word2vec = api.load(\"glove-twitter-100\")\n"
      ],
      "execution_count": null,
      "outputs": [
        {
          "output_type": "stream",
          "text": [
            "[=================================================-] 98.9% 382.8/387.1MB downloaded"
          ],
          "name": "stdout"
        }
      ]
    },
    {
      "cell_type": "code",
      "metadata": {
        "id": "q95JVMQVZB6D",
        "colab_type": "code",
        "colab": {}
      },
      "source": [
        "def create_matrix_L(tokenizer,word2vec):\n",
        "    df=np.zeros((len(tokenizer.index_word),word2vec.vector_size),dtype='float')\n",
        "    for number,word in enumerate(tokenizer.index_word.values()):\n",
        "        if word in word2vec.wv.vocab:\n",
        "            df[number]=word2vec[word]\n",
        "    return df"
      ],
      "execution_count": null,
      "outputs": []
    },
    {
      "cell_type": "code",
      "metadata": {
        "id": "GVowJcZaZDnR",
        "colab_type": "code",
        "colab": {
          "base_uri": "https://localhost:8080/",
          "height": 52
        },
        "outputId": "ff7d0c34-6554-4bc7-e249-6322fb93b9d7"
      },
      "source": [
        "L=create_matrix_L(tokenizer,word2vec)"
      ],
      "execution_count": null,
      "outputs": [
        {
          "output_type": "stream",
          "text": [
            "/usr/local/lib/python3.6/dist-packages/ipykernel_launcher.py:4: DeprecationWarning: Call to deprecated `wv` (Attribute will be removed in 4.0.0, use self instead).\n",
            "  after removing the cwd from sys.path.\n"
          ],
          "name": "stderr"
        }
      ]
    },
    {
      "cell_type": "code",
      "metadata": {
        "id": "qRQaLRFyZtpR",
        "colab_type": "code",
        "colab": {}
      },
      "source": [
        "stopping = EarlyStopping(monitor='val_loss', patience=4,restore_best_weights=False,verbose=1)\n"
      ],
      "execution_count": null,
      "outputs": []
    },
    {
      "cell_type": "markdown",
      "metadata": {
        "id": "nbSpv_jmOAOn",
        "colab_type": "text"
      },
      "source": [
        "# Normal LSTM model"
      ]
    },
    {
      "cell_type": "code",
      "metadata": {
        "id": "EDGpvSZsZvvZ",
        "colab_type": "code",
        "colab": {}
      },
      "source": [
        "def LSTM_model(L,train_tokens,num_classes=3):\n",
        "    model = Sequential()\n",
        "    model.add(Masking(mask_value=0))\n",
        "    model.add(Embedding(L.shape[0],L.shape[1], input_length=train_tokens.shape[1],embeddings_initializer=Constant(L),trainable=False))\n",
        "    #model.add(BatchNormalization())\n",
        "    model.add(LSTM(100, dropout=0.3, recurrent_dropout=0.1,recurrent_activation='sigmoid',recurrent_regularizer='l2'))\n",
        "    model.add(Dropout(0.3))\n",
        "\n",
        "    model.add(Dense(num_classes, activation='softmax'))\n",
        "    model.compile(loss='categorical_crossentropy', optimizer='adam', metrics=['accuracy'])\n",
        "    return model\n"
      ],
      "execution_count": null,
      "outputs": []
    },
    {
      "cell_type": "code",
      "metadata": {
        "id": "pNX3sdxyZx_C",
        "colab_type": "code",
        "colab": {}
      },
      "source": [
        "model_LSTM=LSTM_model(L,X_train)"
      ],
      "execution_count": null,
      "outputs": []
    },
    {
      "cell_type": "code",
      "metadata": {
        "id": "W-_LhrE_Zz5Z",
        "colab_type": "code",
        "colab": {
          "base_uri": "https://localhost:8080/",
          "height": 52
        },
        "outputId": "06c76653-e488-4632-f9d1-2b85f26ccfd0"
      },
      "source": [
        "model_LSTM.fit(X_train,Y_train,batch_size=64,epochs=30,verbose=False,validation_split=0.2,use_multiprocessing=True,workers=0,callbacks=[stopping])"
      ],
      "execution_count": null,
      "outputs": [
        {
          "output_type": "stream",
          "text": [
            "Epoch 00016: early stopping\n"
          ],
          "name": "stdout"
        },
        {
          "output_type": "execute_result",
          "data": {
            "text/plain": [
              "<tensorflow.python.keras.callbacks.History at 0x7fce73d43400>"
            ]
          },
          "metadata": {
            "tags": []
          },
          "execution_count": 52
        }
      ]
    },
    {
      "cell_type": "markdown",
      "metadata": {
        "id": "X6IVsz2QXHOE",
        "colab_type": "text"
      },
      "source": [
        "The returned \"history\" object holds a record of the loss values and metric values during training"
      ]
    },
    {
      "cell_type": "code",
      "metadata": {
        "id": "Bem_1cuQAHil",
        "colab_type": "code",
        "colab": {}
      },
      "source": [
        "hist_lstm=model_LSTM.history.history"
      ],
      "execution_count": null,
      "outputs": []
    },
    {
      "cell_type": "code",
      "metadata": {
        "id": "uw164R3KaLnx",
        "colab_type": "code",
        "colab": {
          "base_uri": "https://localhost:8080/",
          "height": 34
        },
        "outputId": "e90d7bd0-52a6-4627-d352-27e754b0a666"
      },
      "source": [
        "model_LSTM.evaluate(X_test,Y_test,batch_size=64,verbose=0,workers=0,use_multiprocessing=True)"
      ],
      "execution_count": null,
      "outputs": [
        {
          "output_type": "execute_result",
          "data": {
            "text/plain": [
              "[0.879388153553009, 0.6257225275039673]"
            ]
          },
          "metadata": {
            "tags": []
          },
          "execution_count": 54
        }
      ]
    },
    {
      "cell_type": "code",
      "metadata": {
        "id": "XBVM1MWMaPHo",
        "colab_type": "code",
        "colab": {
          "base_uri": "https://localhost:8080/",
          "height": 194
        },
        "outputId": "b366a84f-af3c-4fc5-bd69-6723e4f59156"
      },
      "source": [
        "preds = model_LSTM.predict(X_test,verbose=0)\n",
        "\n",
        "Ypred = np.argmax(preds, axis=1)\n",
        "#Ytest = test_generator.classes  # shuffle=False in test_generator\n",
        "\n",
        "print(classification_report(np.argmax(Y_test,axis=1), Ypred, labels=None,target_names=['-1','0','1'], digits=3))"
      ],
      "execution_count": null,
      "outputs": [
        {
          "output_type": "stream",
          "text": [
            "              precision    recall  f1-score   support\n",
            "\n",
            "          -1      0.589     0.497     0.539       173\n",
            "           0      0.652     0.751     0.698       346\n",
            "           1      0.592     0.503     0.544       173\n",
            "\n",
            "    accuracy                          0.626       692\n",
            "   macro avg      0.611     0.584     0.594       692\n",
            "weighted avg      0.621     0.626     0.620       692\n",
            "\n"
          ],
          "name": "stdout"
        }
      ]
    },
    {
      "cell_type": "code",
      "metadata": {
        "id": "fT9xpBD_aRJ5",
        "colab_type": "code",
        "colab": {
          "base_uri": "https://localhost:8080/",
          "height": 70
        },
        "outputId": "e2babf9d-77f7-4d32-ed4c-395bd2fc53f0"
      },
      "source": [
        "print(confusion_matrix(np.argmax(Y_test,axis=1),Ypred))"
      ],
      "execution_count": null,
      "outputs": [
        {
          "output_type": "stream",
          "text": [
            "[[ 86  73  14]\n",
            " [ 40 260  46]\n",
            " [ 20  66  87]]\n"
          ],
          "name": "stdout"
        }
      ]
    },
    {
      "cell_type": "markdown",
      "metadata": {
        "id": "bBc6aTbsOIEH",
        "colab_type": "text"
      },
      "source": [
        "# TD-LSTM-evaluate"
      ]
    },
    {
      "cell_type": "markdown",
      "metadata": {
        "id": "VQxSXZjpaTMR",
        "colab_type": "text"
      },
      "source": [
        "### LSTM-left\n"
      ]
    },
    {
      "cell_type": "code",
      "metadata": {
        "id": "Iw3MxkOlaYrp",
        "colab_type": "code",
        "colab": {}
      },
      "source": [
        "def LSTM_model_left(L,train_tokens,num_classes=3,MAX_SEQUENCE_LENGTH=14):\n",
        "    model = Sequential()\n",
        "    #model.add(Masking(mask_value=0))\n",
        "    model.add(Embedding(L.shape[0],L.shape[1], input_length=train_tokens.shape[1],embeddings_initializer=Constant(L),trainable=False))\n",
        "    model.add(LSTM(100, dropout=0.3, recurrent_dropout=0.1,recurrent_activation='sigmoid',recurrent_regularizer='l2'))\n",
        "    model.add(Dropout(0.3))\n",
        "\n",
        "\n",
        "    model.add(Dense(num_classes, activation='softmax'))\n",
        "    model.compile(loss='categorical_crossentropy', optimizer='adam', metrics=['accuracy'])\n",
        "    return model"
      ],
      "execution_count": null,
      "outputs": []
    },
    {
      "cell_type": "code",
      "metadata": {
        "id": "i2YPcOaVaaqJ",
        "colab_type": "code",
        "colab": {}
      },
      "source": [
        "model_LSTM_left=LSTM_model_left(L,X_train_left)"
      ],
      "execution_count": null,
      "outputs": []
    },
    {
      "cell_type": "code",
      "metadata": {
        "id": "mDMROe6qacXh",
        "colab_type": "code",
        "colab": {
          "base_uri": "https://localhost:8080/",
          "height": 656
        },
        "outputId": "011d5887-8934-4662-a3e2-c7ab805af0d0"
      },
      "source": [
        "model_LSTM_left.fit(X_train_left,Y_train,batch_size=64,epochs=30,verbose=1,validation_split=0.2,use_multiprocessing=True,workers=0,callbacks=[stopping])"
      ],
      "execution_count": null,
      "outputs": [
        {
          "output_type": "stream",
          "text": [
            "Epoch 1/30\n",
            "71/71 [==============================] - 3s 40ms/step - loss: 1.4833 - accuracy: 0.5033 - val_loss: 1.1168 - val_accuracy: 0.5381\n",
            "Epoch 2/30\n",
            "71/71 [==============================] - 3s 36ms/step - loss: 1.0460 - accuracy: 0.5485 - val_loss: 0.9734 - val_accuracy: 0.5646\n",
            "Epoch 3/30\n",
            "71/71 [==============================] - 3s 36ms/step - loss: 0.9680 - accuracy: 0.5578 - val_loss: 0.9288 - val_accuracy: 0.5779\n",
            "Epoch 4/30\n",
            "71/71 [==============================] - 3s 36ms/step - loss: 0.9358 - accuracy: 0.5717 - val_loss: 0.9177 - val_accuracy: 0.5912\n",
            "Epoch 5/30\n",
            "71/71 [==============================] - 3s 35ms/step - loss: 0.9261 - accuracy: 0.5803 - val_loss: 0.9160 - val_accuracy: 0.5858\n",
            "Epoch 6/30\n",
            "71/71 [==============================] - 3s 36ms/step - loss: 0.9200 - accuracy: 0.5795 - val_loss: 0.9040 - val_accuracy: 0.6000\n",
            "Epoch 7/30\n",
            "71/71 [==============================] - 3s 35ms/step - loss: 0.9073 - accuracy: 0.5905 - val_loss: 0.9022 - val_accuracy: 0.5982\n",
            "Epoch 8/30\n",
            "71/71 [==============================] - 3s 37ms/step - loss: 0.9017 - accuracy: 0.5903 - val_loss: 0.8958 - val_accuracy: 0.5973\n",
            "Epoch 9/30\n",
            "71/71 [==============================] - 3s 36ms/step - loss: 0.8965 - accuracy: 0.5976 - val_loss: 0.9018 - val_accuracy: 0.5982\n",
            "Epoch 10/30\n",
            "71/71 [==============================] - 3s 36ms/step - loss: 0.8872 - accuracy: 0.5987 - val_loss: 0.8891 - val_accuracy: 0.6177\n",
            "Epoch 11/30\n",
            "71/71 [==============================] - 3s 36ms/step - loss: 0.8826 - accuracy: 0.6056 - val_loss: 0.8925 - val_accuracy: 0.6035\n",
            "Epoch 12/30\n",
            "71/71 [==============================] - 3s 36ms/step - loss: 0.8816 - accuracy: 0.6056 - val_loss: 0.8839 - val_accuracy: 0.6106\n",
            "Epoch 13/30\n",
            "71/71 [==============================] - 3s 36ms/step - loss: 0.8706 - accuracy: 0.6120 - val_loss: 0.8830 - val_accuracy: 0.6115\n",
            "Epoch 14/30\n",
            "71/71 [==============================] - 3s 36ms/step - loss: 0.8671 - accuracy: 0.6051 - val_loss: 0.8867 - val_accuracy: 0.6115\n",
            "Epoch 15/30\n",
            "71/71 [==============================] - 3s 36ms/step - loss: 0.8589 - accuracy: 0.6184 - val_loss: 0.8838 - val_accuracy: 0.6150\n",
            "Epoch 16/30\n",
            "71/71 [==============================] - 3s 36ms/step - loss: 0.8621 - accuracy: 0.6155 - val_loss: 0.8856 - val_accuracy: 0.6080\n",
            "Epoch 17/30\n",
            "71/71 [==============================] - 3s 36ms/step - loss: 0.8583 - accuracy: 0.6162 - val_loss: 0.8847 - val_accuracy: 0.6159\n",
            "Epoch 00017: early stopping\n"
          ],
          "name": "stdout"
        },
        {
          "output_type": "execute_result",
          "data": {
            "text/plain": [
              "<tensorflow.python.keras.callbacks.History at 0x7fce71c7e208>"
            ]
          },
          "metadata": {
            "tags": []
          },
          "execution_count": 61
        }
      ]
    },
    {
      "cell_type": "markdown",
      "metadata": {
        "id": "ZYJOUPp1ayYA",
        "colab_type": "text"
      },
      "source": [
        "### LSTM-right\n"
      ]
    },
    {
      "cell_type": "code",
      "metadata": {
        "id": "1ezygRZia0hZ",
        "colab_type": "code",
        "colab": {}
      },
      "source": [
        "def LSTM_model_right(L,train_tokens,num_classes=3,MAX_SEQUENCE_LENGTH=14):\n",
        "    model = Sequential()\n",
        "    #model.add(Masking(mask_value=0))\n",
        "    model.add(Embedding(L.shape[0],L.shape[1], input_length=train_tokens.shape[1],embeddings_initializer=Constant(L),trainable=False))\n",
        "    model.add(LSTM(100, dropout=0.3, recurrent_dropout=0.1,recurrent_activation='sigmoid',recurrent_regularizer='l2',go_backwards=True))\n",
        "    model.add(Dropout(0.3))\n",
        "\n",
        "\n",
        "    model.add(Dense(num_classes, activation='softmax'))\n",
        "    model.compile(loss='categorical_crossentropy', optimizer='adam', metrics=['accuracy'])\n",
        "    return model"
      ],
      "execution_count": null,
      "outputs": []
    },
    {
      "cell_type": "code",
      "metadata": {
        "id": "C1mrtFVRa2VJ",
        "colab_type": "code",
        "colab": {}
      },
      "source": [
        "model_LSTM_right=LSTM_model_right(L,X_train_right)"
      ],
      "execution_count": null,
      "outputs": []
    },
    {
      "cell_type": "code",
      "metadata": {
        "id": "b9o72nX0a4Fo",
        "colab_type": "code",
        "colab": {
          "base_uri": "https://localhost:8080/",
          "height": 1000
        },
        "outputId": "0eebb48a-cd9c-499a-e40c-1605e6cd5525"
      },
      "source": [
        "model_LSTM_right.fit(X_train_right,Y_train,batch_size=64,epochs=30,verbose=1,validation_split=0.2,use_multiprocessing=True,workers=0,callbacks=[stopping])"
      ],
      "execution_count": null,
      "outputs": [
        {
          "output_type": "stream",
          "text": [
            "Epoch 1/30\n",
            "71/71 [==============================] - 3s 39ms/step - loss: 1.5084 - accuracy: 0.4947 - val_loss: 1.1530 - val_accuracy: 0.5274\n",
            "Epoch 2/30\n",
            "71/71 [==============================] - 3s 36ms/step - loss: 1.0631 - accuracy: 0.5394 - val_loss: 0.9920 - val_accuracy: 0.5531\n",
            "Epoch 3/30\n",
            "71/71 [==============================] - 3s 36ms/step - loss: 0.9796 - accuracy: 0.5587 - val_loss: 0.9662 - val_accuracy: 0.5637\n",
            "Epoch 4/30\n",
            "71/71 [==============================] - 3s 36ms/step - loss: 0.9479 - accuracy: 0.5606 - val_loss: 0.9467 - val_accuracy: 0.5584\n",
            "Epoch 5/30\n",
            "71/71 [==============================] - 3s 42ms/step - loss: 0.9254 - accuracy: 0.5861 - val_loss: 0.9352 - val_accuracy: 0.5726\n",
            "Epoch 6/30\n",
            "71/71 [==============================] - 5s 67ms/step - loss: 0.9263 - accuracy: 0.5748 - val_loss: 0.9267 - val_accuracy: 0.5858\n",
            "Epoch 7/30\n",
            "71/71 [==============================] - 3s 46ms/step - loss: 0.9092 - accuracy: 0.5854 - val_loss: 0.9281 - val_accuracy: 0.5805\n",
            "Epoch 8/30\n",
            "71/71 [==============================] - 3s 36ms/step - loss: 0.9088 - accuracy: 0.5890 - val_loss: 0.9239 - val_accuracy: 0.5770\n",
            "Epoch 9/30\n",
            "71/71 [==============================] - 3s 35ms/step - loss: 0.8987 - accuracy: 0.5943 - val_loss: 0.9220 - val_accuracy: 0.5858\n",
            "Epoch 10/30\n",
            "71/71 [==============================] - 3s 36ms/step - loss: 0.8942 - accuracy: 0.6009 - val_loss: 0.9206 - val_accuracy: 0.6018\n",
            "Epoch 11/30\n",
            "71/71 [==============================] - 3s 36ms/step - loss: 0.8814 - accuracy: 0.6060 - val_loss: 0.9120 - val_accuracy: 0.6018\n",
            "Epoch 12/30\n",
            "71/71 [==============================] - 3s 36ms/step - loss: 0.8856 - accuracy: 0.6031 - val_loss: 0.9086 - val_accuracy: 0.5991\n",
            "Epoch 13/30\n",
            "71/71 [==============================] - 2s 35ms/step - loss: 0.8796 - accuracy: 0.6038 - val_loss: 0.9107 - val_accuracy: 0.6088\n",
            "Epoch 14/30\n",
            "71/71 [==============================] - 3s 36ms/step - loss: 0.8735 - accuracy: 0.6025 - val_loss: 0.9074 - val_accuracy: 0.6018\n",
            "Epoch 15/30\n",
            "71/71 [==============================] - 3s 36ms/step - loss: 0.8731 - accuracy: 0.6118 - val_loss: 0.9069 - val_accuracy: 0.6071\n",
            "Epoch 16/30\n",
            "71/71 [==============================] - 3s 36ms/step - loss: 0.8664 - accuracy: 0.6144 - val_loss: 0.9052 - val_accuracy: 0.5947\n",
            "Epoch 17/30\n",
            "71/71 [==============================] - 2s 35ms/step - loss: 0.8697 - accuracy: 0.6085 - val_loss: 0.9111 - val_accuracy: 0.5982\n",
            "Epoch 18/30\n",
            "71/71 [==============================] - 3s 35ms/step - loss: 0.8518 - accuracy: 0.6186 - val_loss: 0.8985 - val_accuracy: 0.6133\n",
            "Epoch 19/30\n",
            "71/71 [==============================] - 3s 35ms/step - loss: 0.8542 - accuracy: 0.6169 - val_loss: 0.9024 - val_accuracy: 0.6018\n",
            "Epoch 20/30\n",
            "71/71 [==============================] - 3s 36ms/step - loss: 0.8538 - accuracy: 0.6166 - val_loss: 0.8973 - val_accuracy: 0.6106\n",
            "Epoch 21/30\n",
            "71/71 [==============================] - 3s 36ms/step - loss: 0.8469 - accuracy: 0.6268 - val_loss: 0.8977 - val_accuracy: 0.6080\n",
            "Epoch 22/30\n",
            "71/71 [==============================] - 3s 36ms/step - loss: 0.8468 - accuracy: 0.6257 - val_loss: 0.8966 - val_accuracy: 0.6106\n",
            "Epoch 23/30\n",
            "71/71 [==============================] - 3s 36ms/step - loss: 0.8372 - accuracy: 0.6328 - val_loss: 0.9048 - val_accuracy: 0.6044\n",
            "Epoch 24/30\n",
            "71/71 [==============================] - 3s 35ms/step - loss: 0.8342 - accuracy: 0.6377 - val_loss: 0.8996 - val_accuracy: 0.6168\n",
            "Epoch 25/30\n",
            "71/71 [==============================] - 3s 35ms/step - loss: 0.8313 - accuracy: 0.6315 - val_loss: 0.8956 - val_accuracy: 0.6168\n",
            "Epoch 26/30\n",
            "71/71 [==============================] - 3s 36ms/step - loss: 0.8351 - accuracy: 0.6286 - val_loss: 0.8990 - val_accuracy: 0.6115\n",
            "Epoch 27/30\n",
            "71/71 [==============================] - 3s 37ms/step - loss: 0.8257 - accuracy: 0.6383 - val_loss: 0.8955 - val_accuracy: 0.6142\n",
            "Epoch 28/30\n",
            "71/71 [==============================] - 3s 36ms/step - loss: 0.8200 - accuracy: 0.6366 - val_loss: 0.8968 - val_accuracy: 0.6106\n",
            "Epoch 29/30\n",
            "71/71 [==============================] - 3s 36ms/step - loss: 0.8182 - accuracy: 0.6399 - val_loss: 0.8913 - val_accuracy: 0.6230\n",
            "Epoch 30/30\n",
            "71/71 [==============================] - 3s 36ms/step - loss: 0.8149 - accuracy: 0.6370 - val_loss: 0.8932 - val_accuracy: 0.6168\n"
          ],
          "name": "stdout"
        },
        {
          "output_type": "execute_result",
          "data": {
            "text/plain": [
              "<tensorflow.python.keras.callbacks.History at 0x7fce7bcfea58>"
            ]
          },
          "metadata": {
            "tags": []
          },
          "execution_count": 64
        }
      ]
    },
    {
      "cell_type": "markdown",
      "metadata": {
        "id": "j3fpzXJwbHWh",
        "colab_type": "text"
      },
      "source": [
        "### Merge the 2 LSTM layers and feed them to another network"
      ]
    },
    {
      "cell_type": "code",
      "metadata": {
        "id": "1OlCsrxlbH5x",
        "colab_type": "code",
        "colab": {}
      },
      "source": [
        "def concatenate_networks(model_left,model_right,num_classes=3):\n",
        "    left_vector=model_left.layers[-3].output\n",
        "    right_vector=model_right.layers[-3].output # concatenate the 2nd to last layers\n",
        "    \n",
        "    merged=Concatenate()([left_vector,right_vector])\n",
        "    output=Dropout(0.1)(merged)\n",
        "    \n",
        "    output= Dense(num_classes, activation='softmax')(output)\n",
        "\n",
        "    \n",
        "    merged_model=Model([model_left.input,model_right.input],output)\n",
        "\n",
        "\n",
        "    #model= Dense(num_classes, activation='softmax')(merged)\n",
        "    for idx,layer in enumerate(merged_model.layers):\n",
        "        if idx+1<len(merged_model.layers): # train only the last layer,activated by softmax\n",
        "            layer.trainable = False\n",
        "        #print(idx+1,len(merged_model.layers))\n",
        "    merged_model.compile(loss='categorical_crossentropy', optimizer='adam', metrics=['accuracy'])\n",
        "\n",
        "\n",
        "    return merged_model"
      ],
      "execution_count": null,
      "outputs": []
    },
    {
      "cell_type": "code",
      "metadata": {
        "id": "wZV3CX2K-uZQ",
        "colab_type": "code",
        "colab": {}
      },
      "source": [
        "model_TD=concatenate_networks(model_LSTM_left,model_LSTM_right)"
      ],
      "execution_count": null,
      "outputs": []
    },
    {
      "cell_type": "code",
      "metadata": {
        "id": "bK_a1nVwbK_p",
        "colab_type": "code",
        "colab": {
          "base_uri": "https://localhost:8080/",
          "height": 476
        },
        "outputId": "30eaeb89-c8e8-48b2-f73a-2ff968d120f3"
      },
      "source": [
        "model_TD.summary()"
      ],
      "execution_count": null,
      "outputs": [
        {
          "output_type": "stream",
          "text": [
            "Model: \"model_5\"\n",
            "__________________________________________________________________________________________________\n",
            "Layer (type)                    Output Shape         Param #     Connected to                     \n",
            "==================================================================================================\n",
            "embedding_6_input (InputLayer)  [(None, 14)]         0                                            \n",
            "__________________________________________________________________________________________________\n",
            "embedding_7_input (InputLayer)  [(None, 14)]         0                                            \n",
            "__________________________________________________________________________________________________\n",
            "embedding_6 (Embedding)         (None, 14, 100)      978000      embedding_6_input[0][0]          \n",
            "__________________________________________________________________________________________________\n",
            "embedding_7 (Embedding)         (None, 14, 100)      978000      embedding_7_input[0][0]          \n",
            "__________________________________________________________________________________________________\n",
            "lstm_6 (LSTM)                   (None, 100)          80400       embedding_6[0][0]                \n",
            "__________________________________________________________________________________________________\n",
            "lstm_7 (LSTM)                   (None, 100)          80400       embedding_7[0][0]                \n",
            "__________________________________________________________________________________________________\n",
            "concatenate_5 (Concatenate)     (None, 200)          0           lstm_6[0][0]                     \n",
            "                                                                 lstm_7[0][0]                     \n",
            "__________________________________________________________________________________________________\n",
            "dropout_5 (Dropout)             (None, 200)          0           concatenate_5[0][0]              \n",
            "__________________________________________________________________________________________________\n",
            "dense_11 (Dense)                (None, 3)            603         dropout_5[0][0]                  \n",
            "==================================================================================================\n",
            "Total params: 2,117,403\n",
            "Trainable params: 603\n",
            "Non-trainable params: 2,116,800\n",
            "__________________________________________________________________________________________________\n"
          ],
          "name": "stdout"
        }
      ]
    },
    {
      "cell_type": "code",
      "metadata": {
        "id": "1AAsdESebMnB",
        "colab_type": "code",
        "colab": {
          "base_uri": "https://localhost:8080/",
          "height": 51
        },
        "outputId": "ad726076-675d-41e5-fdd5-8591cf8a6bff"
      },
      "source": [
        "history2.fit([X_train_left,X_train_right],Y_train,batch_size=128,epochs=30,verbose=False,validation_split=0.2,workers=0,use_multiprocessing=True,callbacks=[stopping])"
      ],
      "execution_count": null,
      "outputs": [
        {
          "output_type": "stream",
          "text": [
            "Epoch 00016: early stopping\n"
          ],
          "name": "stdout"
        },
        {
          "output_type": "execute_result",
          "data": {
            "text/plain": [
              "<tensorflow.python.keras.callbacks.History at 0x7f1bf2044eb8>"
            ]
          },
          "metadata": {
            "tags": []
          },
          "execution_count": 107
        }
      ]
    },
    {
      "cell_type": "code",
      "metadata": {
        "id": "jLQa6fKDAPv9",
        "colab_type": "code",
        "colab": {}
      },
      "source": [
        "hist_td_lstm=history2.history.history"
      ],
      "execution_count": null,
      "outputs": []
    },
    {
      "cell_type": "code",
      "metadata": {
        "id": "Ko8RsQRCbhrJ",
        "colab_type": "code",
        "colab": {
          "base_uri": "https://localhost:8080/",
          "height": 187
        },
        "outputId": "15687f5e-cdb1-4380-b0e9-3dd41f1a2928"
      },
      "source": [
        "preds = history2.predict([X_test_left,X_test_right],verbose=0)\n",
        "\n",
        "Ypred = np.argmax(preds, axis=1)\n",
        "#Ytest = test_generator.classes  # shuffle=False in test_generator\n",
        "\n",
        "print(classification_report(np.argmax(Y_test,axis=1), Ypred, labels=None,target_names=['-1','0','1'], digits=3))"
      ],
      "execution_count": null,
      "outputs": [
        {
          "output_type": "stream",
          "text": [
            "              precision    recall  f1-score   support\n",
            "\n",
            "          -1      0.623     0.497     0.553       173\n",
            "           0      0.652     0.786     0.713       346\n",
            "           1      0.613     0.486     0.542       173\n",
            "\n",
            "    accuracy                          0.639       692\n",
            "   macro avg      0.630     0.590     0.603       692\n",
            "weighted avg      0.635     0.639     0.630       692\n",
            "\n"
          ],
          "name": "stdout"
        }
      ]
    },
    {
      "cell_type": "code",
      "metadata": {
        "id": "pALNiOUnbjlR",
        "colab_type": "code",
        "colab": {
          "base_uri": "https://localhost:8080/",
          "height": 68
        },
        "outputId": "5e4a0915-773d-470b-bb9d-99c94da65c0c"
      },
      "source": [
        "print(confusion_matrix(np.argmax(Y_test,axis=1),Ypred))"
      ],
      "execution_count": null,
      "outputs": [
        {
          "output_type": "stream",
          "text": [
            "[[ 86  73  14]\n",
            " [ 35 272  39]\n",
            " [ 17  72  84]]\n"
          ],
          "name": "stdout"
        }
      ]
    },
    {
      "cell_type": "markdown",
      "metadata": {
        "id": "7HXPHiyvbmAZ",
        "colab_type": "text"
      },
      "source": [
        "####TC-LSTM"
      ]
    },
    {
      "cell_type": "code",
      "metadata": {
        "id": "dX2G13gecKYR",
        "colab_type": "code",
        "colab": {}
      },
      "source": [
        "def create_target_vector_array(dataframe,word2vec):\n",
        "    target_vector=np.empty([len(dataframe),word2vec.vector_size])\n",
        "    for number,target in enumerate(dataframe.target):\n",
        "        y=np.zeros(word2vec.vector_size) \n",
        "        for t in target.split():\n",
        "            if t in word2vec.wv.vocab.keys():\n",
        "                y+= word2vec.wv[t]\n",
        "        target_vector[number]= y/len(target.split())\n",
        "    return target_vector"
      ],
      "execution_count": null,
      "outputs": []
    },
    {
      "cell_type": "code",
      "metadata": {
        "id": "62ephFZIcNWZ",
        "colab_type": "code",
        "colab": {
          "base_uri": "https://localhost:8080/",
          "height": 85
        },
        "outputId": "10675897-b931-4f35-813d-c5717b6b6d6c"
      },
      "source": [
        "target_vector_array_train=create_target_vector_array(train_processed,word2vec)\n"
      ],
      "execution_count": null,
      "outputs": [
        {
          "output_type": "stream",
          "text": [
            "/usr/local/lib/python3.6/dist-packages/ipykernel_launcher.py:6: DeprecationWarning: Call to deprecated `wv` (Attribute will be removed in 4.0.0, use self instead).\n",
            "  \n",
            "/usr/local/lib/python3.6/dist-packages/ipykernel_launcher.py:7: DeprecationWarning: Call to deprecated `wv` (Attribute will be removed in 4.0.0, use self instead).\n",
            "  import sys\n"
          ],
          "name": "stderr"
        }
      ]
    },
    {
      "cell_type": "code",
      "metadata": {
        "id": "uJivtqaIfIMq",
        "colab_type": "code",
        "colab": {}
      },
      "source": [
        "def LSTM_TC_model_left(L,train_tokens,target_vector_array,num_classes=3):\n",
        "    MAX_SEQUENCE_LENGTH = len(max(train_tokens,key=len))\n",
        "    input_tokens=Input(shape=MAX_SEQUENCE_LENGTH,dtype='int32')\n",
        "    input_target_vector=Input(shape=target_vector_array.shape[1],dtype='float32')\n",
        "    \n",
        "    embb= Embedding(L.shape[0],L.shape[1], input_length=train_tokens.shape[1],embeddings_initializer=Constant(L),trainable=False)(input_tokens)\n",
        "    repeat_target= RepeatVector(MAX_SEQUENCE_LENGTH)(input_target_vector) #plut the word vector to each input of the LSTM\n",
        "    conc=Concatenate(axis=-1)([embb,repeat_target])\n",
        "    lstm= LSTM(100, dropout=0.3, recurrent_dropout=0.1,recurrent_regularizer='l2')(conc)\n",
        "    #lstm=Dropout(0.3)(lstm)\n",
        "    \n",
        "    \n",
        "    #dense=Dense(64)(lstm)\n",
        "    #dense=BatchNormalization()(dense)\n",
        "\n",
        "    #dense=Dropout(0.3)(dense)\n",
        "\n",
        "\n",
        "    output = Dense(num_classes, activation='softmax')(lstm)\n",
        "    model=Model([input_tokens,input_target_vector],outputs=output)\n",
        "    model.compile(loss='categorical_crossentropy', optimizer='adam', metrics=['accuracy'])\n",
        "    return model\n",
        "\n"
      ],
      "execution_count": null,
      "outputs": []
    },
    {
      "cell_type": "code",
      "metadata": {
        "id": "ta1P0E--fWCQ",
        "colab_type": "code",
        "colab": {}
      },
      "source": [
        "def LSTM_TC_model_right(L,train_tokens,target_vector_array,num_classes=3):\n",
        "    MAX_SEQUENCE_LENGTH = len(max(train_tokens,key=len))\n",
        "\n",
        "    input_tokens=Input(shape=MAX_SEQUENCE_LENGTH,dtype='int32')\n",
        "    input_target_vector=Input(shape=target_vector_array.shape[1],dtype='float32')\n",
        "    \n",
        "    embb= Embedding(L.shape[0],L.shape[1], input_length=train_tokens.shape[1],embeddings_initializer=Constant(L),trainable=False)(input_tokens)\n",
        "    repeat_target= RepeatVector(MAX_SEQUENCE_LENGTH)(input_target_vector)\n",
        "    conc=Concatenate(axis=-1)([embb,repeat_target])\n",
        "    lstm= LSTM(100, dropout=0.3, recurrent_dropout=0.1,go_backwards=True)(conc)\n",
        "    #lstm=Dropout(0.3)(lstm)\n",
        "    \n",
        "    \n",
        "    #dense=Dense(64)(lstm)\n",
        "    #dense=BatchNormalization()(dense)\n",
        "\n",
        "    #dense=Dropout(0.3)(dense)\n",
        "\n",
        "\n",
        "    output = Dense(num_classes, activation='softmax')(lstm)\n",
        "    model=Model([input_tokens,input_target_vector],outputs=output)\n",
        "    model.compile(loss='categorical_crossentropy', optimizer='adam', metrics=['accuracy'])\n",
        "    return model\n",
        "\n",
        "\n"
      ],
      "execution_count": null,
      "outputs": []
    },
    {
      "cell_type": "code",
      "metadata": {
        "id": "b_NMZmXufi9I",
        "colab_type": "code",
        "colab": {
          "base_uri": "https://localhost:8080/",
          "height": 34
        },
        "outputId": "73f15e17-8158-4268-ff76-39e7c7e36ec2"
      },
      "source": [
        "model_LSTM_left=LSTM_TC_model_left(L,X_train_left,target_vector_array_train)\n"
      ],
      "execution_count": null,
      "outputs": [
        {
          "output_type": "stream",
          "text": [
            "WARNING:tensorflow:Layer lstm_8 will not use cuDNN kernel since it doesn't meet the cuDNN kernel criteria. It will use generic GPU kernel as fallback when running on GPU\n"
          ],
          "name": "stdout"
        }
      ]
    },
    {
      "cell_type": "code",
      "metadata": {
        "id": "dFhl2mYUftQB",
        "colab_type": "code",
        "colab": {
          "base_uri": "https://localhost:8080/",
          "height": 51
        },
        "outputId": "59286eed-eac7-4407-9270-97d983aab7ba"
      },
      "source": [
        "model_LSTM_left.fit([X_train_left,target_vector_array_train],Y_train,batch_size=128,epochs=30,verbose=0,validation_split=0.2,use_multiprocessing=True,workers=0,callbacks=[stopping])\n",
        "\n"
      ],
      "execution_count": null,
      "outputs": [
        {
          "output_type": "stream",
          "text": [
            "Epoch 00026: early stopping\n"
          ],
          "name": "stdout"
        },
        {
          "output_type": "execute_result",
          "data": {
            "text/plain": [
              "<tensorflow.python.keras.callbacks.History at 0x7f1bef0efa20>"
            ]
          },
          "metadata": {
            "tags": []
          },
          "execution_count": 117
        }
      ]
    },
    {
      "cell_type": "code",
      "metadata": {
        "id": "uziVdbVvgLSi",
        "colab_type": "code",
        "colab": {
          "base_uri": "https://localhost:8080/",
          "height": 34
        },
        "outputId": "2ae6bdcd-21ac-4c7c-d15a-665816d418c4"
      },
      "source": [
        "model_LSTM_right=LSTM_TC_model_right(L,X_train_right,target_vector_array_train)"
      ],
      "execution_count": null,
      "outputs": [
        {
          "output_type": "stream",
          "text": [
            "WARNING:tensorflow:Layer lstm_9 will not use cuDNN kernel since it doesn't meet the cuDNN kernel criteria. It will use generic GPU kernel as fallback when running on GPU\n"
          ],
          "name": "stdout"
        }
      ]
    },
    {
      "cell_type": "code",
      "metadata": {
        "id": "MigZeU2tfk5o",
        "colab_type": "code",
        "colab": {
          "base_uri": "https://localhost:8080/",
          "height": 51
        },
        "outputId": "24f805e9-d8e8-49d0-f302-9fd311a5a0cd"
      },
      "source": [
        "model_LSTM_right.fit([X_train_right,target_vector_array_train],Y_train,batch_size=128,epochs=30,verbose=0,validation_split=0.2,use_multiprocessing=True,workers=0,callbacks=[stopping])"
      ],
      "execution_count": null,
      "outputs": [
        {
          "output_type": "stream",
          "text": [
            "Epoch 00020: early stopping\n"
          ],
          "name": "stdout"
        },
        {
          "output_type": "execute_result",
          "data": {
            "text/plain": [
              "<tensorflow.python.keras.callbacks.History at 0x7f1bee095b38>"
            ]
          },
          "metadata": {
            "tags": []
          },
          "execution_count": 119
        }
      ]
    },
    {
      "cell_type": "code",
      "metadata": {
        "id": "8sUeKscRgW7W",
        "colab_type": "code",
        "colab": {}
      },
      "source": [
        "def TC_LSTM(model_left,model_right,num_classes=3):\n",
        "    left_vector=model_left.layers[-2].output\n",
        "    right_vector=model_right.layers[-2].output \n",
        "    \n",
        "    merged=Concatenate()([left_vector,right_vector]) # concatenate the two LSTM layers of the previous models\n",
        "    output=Dropout(0.3)(merged)\n",
        "    \n",
        "    output= Dense(num_classes, activation='softmax')(output)\n",
        "\n",
        "    \n",
        "    merged_model=Model([model_left.input,model_right.input],output)\n",
        "\n",
        "\n",
        "    #model= Dense(num_classes, activation='softmax')(merged)\n",
        "    for idx,layer in enumerate(merged_model.layers):\n",
        "        if idx+1<len(merged_model.layers): # train only the last layer,activated with softmax\n",
        "            layer.trainable = False\n",
        "        #print(idx+1,len(merged_model.layers))\n",
        "    merged_model.compile(loss='categorical_crossentropy', optimizer='adam', metrics=['accuracy'])\n",
        "\n",
        "\n",
        "    return merged_model\n",
        "\n"
      ],
      "execution_count": null,
      "outputs": []
    },
    {
      "cell_type": "code",
      "metadata": {
        "id": "WfXM0iyageio",
        "colab_type": "code",
        "colab": {}
      },
      "source": [
        "history3=TC_LSTM(model_LSTM_left,model_LSTM_right)\n"
      ],
      "execution_count": null,
      "outputs": []
    },
    {
      "cell_type": "code",
      "metadata": {
        "id": "8HPT6oaaghQp",
        "colab_type": "code",
        "colab": {
          "base_uri": "https://localhost:8080/",
          "height": 714
        },
        "outputId": "debba007-41ba-41cf-b947-36e167932835"
      },
      "source": [
        "history3.summary()\n"
      ],
      "execution_count": null,
      "outputs": [
        {
          "output_type": "stream",
          "text": [
            "Model: \"model_8\"\n",
            "__________________________________________________________________________________________________\n",
            "Layer (type)                    Output Shape         Param #     Connected to                     \n",
            "==================================================================================================\n",
            "input_5 (InputLayer)            [(None, 14)]         0                                            \n",
            "__________________________________________________________________________________________________\n",
            "input_6 (InputLayer)            [(None, 100)]        0                                            \n",
            "__________________________________________________________________________________________________\n",
            "input_7 (InputLayer)            [(None, 14)]         0                                            \n",
            "__________________________________________________________________________________________________\n",
            "input_8 (InputLayer)            [(None, 100)]        0                                            \n",
            "__________________________________________________________________________________________________\n",
            "embedding_8 (Embedding)         (None, 14, 100)      978000      input_5[0][0]                    \n",
            "__________________________________________________________________________________________________\n",
            "repeat_vector_2 (RepeatVector)  (None, 14, 100)      0           input_6[0][0]                    \n",
            "__________________________________________________________________________________________________\n",
            "embedding_9 (Embedding)         (None, 14, 100)      978000      input_7[0][0]                    \n",
            "__________________________________________________________________________________________________\n",
            "repeat_vector_3 (RepeatVector)  (None, 14, 100)      0           input_8[0][0]                    \n",
            "__________________________________________________________________________________________________\n",
            "concatenate_6 (Concatenate)     (None, 14, 200)      0           embedding_8[0][0]                \n",
            "                                                                 repeat_vector_2[0][0]            \n",
            "__________________________________________________________________________________________________\n",
            "concatenate_7 (Concatenate)     (None, 14, 200)      0           embedding_9[0][0]                \n",
            "                                                                 repeat_vector_3[0][0]            \n",
            "__________________________________________________________________________________________________\n",
            "lstm_8 (LSTM)                   (None, 100)          120400      concatenate_6[0][0]              \n",
            "__________________________________________________________________________________________________\n",
            "lstm_9 (LSTM)                   (None, 100)          120400      concatenate_7[0][0]              \n",
            "__________________________________________________________________________________________________\n",
            "concatenate_8 (Concatenate)     (None, 200)          0           lstm_8[0][0]                     \n",
            "                                                                 lstm_9[0][0]                     \n",
            "__________________________________________________________________________________________________\n",
            "dropout_6 (Dropout)             (None, 200)          0           concatenate_8[0][0]              \n",
            "__________________________________________________________________________________________________\n",
            "dense_14 (Dense)                (None, 3)            603         dropout_6[0][0]                  \n",
            "==================================================================================================\n",
            "Total params: 2,197,403\n",
            "Trainable params: 603\n",
            "Non-trainable params: 2,196,800\n",
            "__________________________________________________________________________________________________\n"
          ],
          "name": "stdout"
        }
      ]
    },
    {
      "cell_type": "code",
      "metadata": {
        "id": "VNJg9AYMgnSg",
        "colab_type": "code",
        "colab": {
          "base_uri": "https://localhost:8080/",
          "height": 51
        },
        "outputId": "a063a945-35ab-4039-f97c-19ae3232a60b"
      },
      "source": [
        "history3.fit([X_train_left,target_vector_array_train,X_train_right,target_vector_array_train],Y_train,batch_size=128,epochs=30,verbose=False,validation_split=0.2,workers=0,use_multiprocessing=True,callbacks=[stopping])"
      ],
      "execution_count": null,
      "outputs": [
        {
          "output_type": "stream",
          "text": [
            "Epoch 00016: early stopping\n"
          ],
          "name": "stdout"
        },
        {
          "output_type": "execute_result",
          "data": {
            "text/plain": [
              "<tensorflow.python.keras.callbacks.History at 0x7f1beca2fda0>"
            ]
          },
          "metadata": {
            "tags": []
          },
          "execution_count": 123
        }
      ]
    },
    {
      "cell_type": "code",
      "metadata": {
        "id": "qtkweY1GFu1s",
        "colab_type": "code",
        "colab": {}
      },
      "source": [
        "hist_tc_lstm=history3.history.history"
      ],
      "execution_count": null,
      "outputs": []
    },
    {
      "cell_type": "code",
      "metadata": {
        "id": "Lh7B-Vc1gqrQ",
        "colab_type": "code",
        "colab": {
          "base_uri": "https://localhost:8080/",
          "height": 85
        },
        "outputId": "93af7184-45a7-4779-e95c-3dd168008a89"
      },
      "source": [
        "target_vector_array_test=create_target_vector_array(test_processed,word2vec)"
      ],
      "execution_count": null,
      "outputs": [
        {
          "output_type": "stream",
          "text": [
            "/usr/local/lib/python3.6/dist-packages/ipykernel_launcher.py:6: DeprecationWarning: Call to deprecated `wv` (Attribute will be removed in 4.0.0, use self instead).\n",
            "  \n",
            "/usr/local/lib/python3.6/dist-packages/ipykernel_launcher.py:7: DeprecationWarning: Call to deprecated `wv` (Attribute will be removed in 4.0.0, use self instead).\n",
            "  import sys\n"
          ],
          "name": "stderr"
        }
      ]
    },
    {
      "cell_type": "code",
      "metadata": {
        "id": "O8_IoFK8gskA",
        "colab_type": "code",
        "colab": {
          "base_uri": "https://localhost:8080/",
          "height": 34
        },
        "outputId": "76813344-c383-4652-8861-32605d0b3949"
      },
      "source": [
        "history3.evaluate([X_test_left,target_vector_array_test,X_test_right,target_vector_array_test],Y_test,batch_size=128,verbose=0,workers=0,use_multiprocessing=True)"
      ],
      "execution_count": null,
      "outputs": [
        {
          "output_type": "execute_result",
          "data": {
            "text/plain": [
              "[0.8478884100914001, 0.6517341136932373]"
            ]
          },
          "metadata": {
            "tags": []
          },
          "execution_count": 126
        }
      ]
    },
    {
      "cell_type": "code",
      "metadata": {
        "id": "-lmNcp1UgvNq",
        "colab_type": "code",
        "colab": {
          "base_uri": "https://localhost:8080/",
          "height": 187
        },
        "outputId": "a73d8c37-09ea-496e-db5f-74c63908d304"
      },
      "source": [
        "preds = history3.predict([X_test_left,target_vector_array_test,X_test_right,target_vector_array_test],verbose=0)\n",
        "\n",
        "Ypred = np.argmax(preds, axis=1)\n",
        "\n",
        "print(classification_report(np.argmax(Y_test,axis=1), Ypred, labels=None,target_names=['negative','neutral','positive'], digits=3))\n",
        "\n"
      ],
      "execution_count": null,
      "outputs": [
        {
          "output_type": "stream",
          "text": [
            "              precision    recall  f1-score   support\n",
            "\n",
            "    negative      0.617     0.503     0.554       173\n",
            "     neutral      0.660     0.798     0.723       346\n",
            "    positive      0.662     0.509     0.575       173\n",
            "\n",
            "    accuracy                          0.652       692\n",
            "   macro avg      0.646     0.603     0.617       692\n",
            "weighted avg      0.650     0.652     0.644       692\n",
            "\n"
          ],
          "name": "stdout"
        }
      ]
    },
    {
      "cell_type": "code",
      "metadata": {
        "id": "AxX4jY-Agw14",
        "colab_type": "code",
        "colab": {
          "base_uri": "https://localhost:8080/",
          "height": 68
        },
        "outputId": "c7b5ab13-bd3a-41b7-b49b-9e0e82cb8819"
      },
      "source": [
        "print(confusion_matrix(np.argmax(Y_test,axis=1),Ypred))\n"
      ],
      "execution_count": null,
      "outputs": [
        {
          "output_type": "stream",
          "text": [
            "[[ 87  76  10]\n",
            " [ 35 276  35]\n",
            " [ 19  66  88]]\n"
          ],
          "name": "stdout"
        }
      ]
    },
    {
      "cell_type": "markdown",
      "metadata": {
        "id": "0jy0Q9qNOZcm",
        "colab_type": "text"
      },
      "source": [
        "# Model Comparison"
      ]
    },
    {
      "cell_type": "code",
      "metadata": {
        "id": "uhOXlicfhURl",
        "colab_type": "code",
        "colab": {
          "base_uri": "https://localhost:8080/",
          "height": 295
        },
        "outputId": "86dd5e79-8a2c-4ab9-e2ad-d5a7153fe878"
      },
      "source": [
        "def plot_history(models_list,names_list,metric):\n",
        "    for n, model in enumerate (models_list):\n",
        "    # summarize history for accuracy\n",
        "       # plt.plot(model.history.history['accuracy'])\n",
        "        plt.plot(model[metric])\n",
        "        plt.title( names_list[n]+' '+ metric)\n",
        "        plt.ylabel(metric)\n",
        "        plt.xlabel('epoch')\n",
        "    plt.legend([names_list[n-2],names_list[n-1],names_list[n]], loc='upper left')\n",
        "    plt.show()\n",
        "\n",
        "\n",
        "plot_history([hist_lstm,hist_td_lstm,hist_tc_lstm], ['LSTM','TD-LSTM','TC-LSTM'],'accuracy')\n"
      ],
      "execution_count": null,
      "outputs": [
        {
          "output_type": "display_data",
          "data": {
            "image/png": "[encoded data removed]",
            "text/plain": [
              "<Figure size 432x288 with 1 Axes>"
            ]
          },
          "metadata": {
            "tags": [],
            "needs_background": "light"
          }
        }
      ]
    },
    {
      "cell_type": "code",
      "metadata": {
        "id": "-d6aI4uY1GXJ",
        "colab_type": "code",
        "colab": {
          "base_uri": "https://localhost:8080/",
          "height": 295
        },
        "outputId": "15430d73-a879-4a89-d412-451a8d6c14b8"
      },
      "source": [
        "plot_history([hist_lstm,hist_td_lstm,hist_tc_lstm], ['LSTM','TD-LSTM','TC-LSTM'],'loss')\n"
      ],
      "execution_count": null,
      "outputs": [
        {
          "output_type": "display_data",
          "data": {
            "image/png": "[encoded data removed]",
            "text/plain": [
              "<Figure size 432x288 with 1 Axes>"
            ]
          },
          "metadata": {
            "tags": [],
            "needs_background": "light"
          }
        }
      ]
    },
    {
      "cell_type": "code",
      "metadata": {
        "id": "yD7ESYva041b",
        "colab_type": "code",
        "colab": {
          "base_uri": "https://localhost:8080/",
          "height": 295
        },
        "outputId": "25d14160-4b5f-4f09-cfb8-2f2dcc8d6659"
      },
      "source": [
        "plot_history([hist_lstm,hist_td_lstm,hist_tc_lstm], ['LSTM','TD-LSTM','TC-LSTM'],'val_accuracy')\n"
      ],
      "execution_count": null,
      "outputs": [
        {
          "output_type": "display_data",
          "data": {
            "image/png": "[encoded data removed]",
            "text/plain": [
              "<Figure size 432x288 with 1 Axes>"
            ]
          },
          "metadata": {
            "tags": [],
            "needs_background": "light"
          }
        }
      ]
    },
    {
      "cell_type": "code",
      "metadata": {
        "id": "R8I-YiR0iMob",
        "colab_type": "code",
        "colab": {}
      },
      "source": [
        "plot_history([hist_lstm,hist_td_lstm,hist_tc_lstm], ['LSTM','TD-LSTM','TC-LSTM'],'val_loss')"
      ],
      "execution_count": null,
      "outputs": []
    },
    {
      "cell_type": "code",
      "metadata": {
        "id": "Gf4McU5kpUnH",
        "colab_type": "code",
        "colab": {}
      },
      "source": [
        ""
      ],
      "execution_count": null,
      "outputs": []
    },
    {
      "cell_type": "markdown",
      "metadata": {
        "id": "a0qSLIKPj72F",
        "colab_type": "text"
      },
      "source": [
        "Comparing with our paper"
      ]
    },
    {
      "cell_type": "markdown",
      "metadata": {
        "id": "Mp_q1o2td7Od",
        "colab_type": "text"
      },
      "source": [
        "<body>\n",
        "<src = >\n",
        "</body>"
      ]
    },
    {
      "cell_type": "markdown",
      "metadata": {
        "id": "YE2BZJLud-5Q",
        "colab_type": "text"
      },
      "source": [
        "![image.png](data:image/png;base64,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)"
      ]
    },
    {
      "cell_type": "markdown",
      "metadata": {
        "id": "9lw-6flld_Ye",
        "colab_type": "text"
      },
      "source": [
        "Checking with the Accuracies and the Macro-F1 we obtained :\n",
        "\n",
        "<div align = 'center'>\n",
        "$\n",
        "\\begin{array}{c c} \n",
        "{\\huge Accuracy} & {\\huge Macro-F1}\\\\\n",
        "\\\\\n",
        "{\\huge 0.621} & {\\huge 0.586} \\\\\n",
        "{\\huge 0.639} & {\\huge 0.603} \\\\\n",
        "{\\huge 0.652} & {\\huge 0.617} \\\\\n",
        "\\end{array}$\n",
        "</div>\n",
        "\n",
        "The accuracies are slightly lower than the paper's ones.\n",
        "\n",
        "\n",
        "\n",
        "\n",
        "\n",
        "\n"
      ]
    },
    {
      "cell_type": "markdown",
      "metadata": {
        "id": "PzlkpwW_um6u",
        "colab_type": "text"
      },
      "source": [
        "And from the bar graph:\n",
        "\n",
        "<body>\n",
        "<img src =\"https://drive.google.com/uc?export=view&id=178z3EeBS_Eu_zPHUGQ02626Q0K2Rsruk\">\n",
        "</body>"
      ]
    }
  ]
}